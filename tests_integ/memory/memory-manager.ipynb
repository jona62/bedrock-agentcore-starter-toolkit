{
 "cells": [
  {
   "cell_type": "code",
   "execution_count": 48,
   "metadata": {},
   "outputs": [],
   "source": [
    "from bedrock_agentcore_starter_toolkit.operations.memory.manager import Memory, MemoryManager"
   ]
  },
  {
   "cell_type": "code",
   "execution_count": 49,
   "metadata": {},
   "outputs": [
    {
     "name": "stderr",
     "output_type": "stream",
     "text": [
      "✅ MemoryManager initialized for region: us-east-1\n",
      "Memory already exists. Using existing memory ID: DemoLongTermMemory-uJZDq62oUz\n",
      "🔎 Retrieving memory resource with ID: DemoLongTermMemory-uJZDq62oUz...\n"
     ]
    },
    {
     "name": "stdout",
     "output_type": "stream",
     "text": [
      "\n",
      "========================= CONTROL PLANE DEMO =========================\n",
      "🔍 DEBUG: Starting control plane operations...\n"
     ]
    },
    {
     "name": "stderr",
     "output_type": "stream",
     "text": [
      "  ✅ Found memory: DemoLongTermMemory-uJZDq62oUz\n"
     ]
    },
    {
     "name": "stdout",
     "output_type": "stream",
     "text": [
      "🔍 DEBUG: Short-term memory created successfully\n"
     ]
    },
    {
     "data": {
      "text/plain": [
       "{'arn': 'arn:aws:bedrock-agentcore:us-east-1:328307993871:memory/DemoLongTermMemory-uJZDq62oUz', 'id': 'DemoLongTermMemory-uJZDq62oUz', 'name': 'DemoLongTermMemory', 'description': 'A memory for long-lived conversations.', 'eventExpiryDuration': 90, 'status': 'ACTIVE', 'createdAt': datetime.datetime(2025, 9, 18, 18, 58, 36, 280000, tzinfo=tzlocal()), 'updatedAt': datetime.datetime(2025, 9, 19, 17, 13, 25, 486000, tzinfo=tzlocal()), 'strategies': []}"
      ]
     },
     "execution_count": 49,
     "metadata": {},
     "output_type": "execute_result"
    }
   ],
   "source": [
    "print(\"\\n\" + \"=\"*25 + \" CONTROL PLANE DEMO \" + \"=\"*25)\n",
    "\n",
    "manager = MemoryManager(region_name=\"us-east-1\")\n",
    "\n",
    "print(\"🔍 DEBUG: Starting control plane operations...\")\n",
    "\n",
    "memory: Memory = manager.get_or_create_memory(\n",
    "    name=\"DemoLongTermMemory\",\n",
    "    description=\"A temporary memory for short-lived conversations.\"\n",
    ")\n",
    "print(\"🔍 DEBUG: Short-term memory created successfully\")\n",
    "memory"
   ]
  },
  {
   "cell_type": "code",
   "execution_count": 50,
   "metadata": {},
   "outputs": [
    {
     "data": {
      "text/plain": [
       "'arn:aws:bedrock-agentcore:us-east-1:328307993871:memory/DemoLongTermMemory-uJZDq62oUz'"
      ]
     },
     "execution_count": 50,
     "metadata": {},
     "output_type": "execute_result"
    }
   ],
   "source": [
    "memory.arn"
   ]
  },
  {
   "cell_type": "code",
   "execution_count": 51,
   "metadata": {},
   "outputs": [],
   "source": [
    "# MEMORY_ID = \"DemoLongTermMemory-uJZDq62oUz\""
   ]
  },
  {
   "cell_type": "code",
   "execution_count": 52,
   "metadata": {},
   "outputs": [
    {
     "name": "stdout",
     "output_type": "stream",
     "text": [
      "🔍 DEBUG: Memory found : {'arn': 'arn:aws:bedrock-agentcore:us-east-1:328307993871:memory/DemoLongTermMemory-uJZDq62oUz', 'id': 'DemoLongTermMemory-uJZDq62oUz', 'status': 'ACTIVE', 'createdAt': datetime.datetime(2025, 9, 18, 18, 58, 36, 280000, tzinfo=tzlocal()), 'updatedAt': datetime.datetime(2025, 9, 19, 17, 13, 25, 486000, tzinfo=tzlocal()), 'memoryId': 'DemoLongTermMemory-uJZDq62oUz'}\n",
      "🔍 DEBUG: Memory found : {'arn': 'arn:aws:bedrock-agentcore:us-east-1:328307993871:memory/GetOrCreateMemory-sYTPyVCb4Q', 'id': 'GetOrCreateMemory-sYTPyVCb4Q', 'status': 'ACTIVE', 'createdAt': datetime.datetime(2025, 9, 22, 16, 46, 24, 430000, tzinfo=tzlocal()), 'updatedAt': datetime.datetime(2025, 9, 22, 17, 1, 18, 996000, tzinfo=tzlocal()), 'memoryId': 'GetOrCreateMemory-sYTPyVCb4Q'}\n",
      "🔍 DEBUG: Memory found : {'arn': 'arn:aws:bedrock-agentcore:us-east-1:328307993871:memory/GetOrCreateMemoryy-uIxu7R2ojl', 'id': 'GetOrCreateMemoryy-uIxu7R2ojl', 'status': 'ACTIVE', 'createdAt': datetime.datetime(2025, 9, 22, 17, 1, 58, 401000, tzinfo=tzlocal()), 'updatedAt': datetime.datetime(2025, 9, 22, 17, 4, 45, 134000, tzinfo=tzlocal()), 'memoryId': 'GetOrCreateMemoryy-uIxu7R2ojl'}\n"
     ]
    }
   ],
   "source": [
    "# List all memories\n",
    "for memory_summary in manager.list_memories():\n",
    "    print(f\"🔍 DEBUG: Memory found : {memory_summary}\")"
   ]
  },
  {
   "cell_type": "code",
   "execution_count": 53,
   "metadata": {},
   "outputs": [],
   "source": [
    "# Get all the memory strategies available\n",
    "strategies = manager.get_memory_strategies(memory_id=memory.id)"
   ]
  },
  {
   "cell_type": "code",
   "execution_count": 54,
   "metadata": {},
   "outputs": [
    {
     "name": "stderr",
     "output_type": "stream",
     "text": [
      "Updated memory strategies for: DemoLongTermMemory-uJZDq62oUz\n",
      "Waiting for memory DemoLongTermMemory-uJZDq62oUz to return to ACTIVE state and strategies to reach terminal states...\n",
      "Memory DemoLongTermMemory-uJZDq62oUz is ACTIVE and all strategies are in terminal states (took 0 seconds)\n"
     ]
    },
    {
     "name": "stdout",
     "output_type": "stream",
     "text": [
      "🔍 DEBUG: Summary strategy added successfully\n"
     ]
    }
   ],
   "source": [
    "if \"SummaryStrategy\" not in [stragegy.name for stragegy in strategies]:\n",
    "    manager.add_summary_strategy_and_wait(\n",
    "        memory_id=memory.id,\n",
    "        name=\"SummaryStrategy\",\n",
    "        namespaces=[\"support/user/{actorId}/{sessionId}\"],\n",
    "    )\n",
    "    print(\"🔍 DEBUG: Summary strategy added successfully\")\n",
    "else:\n",
    "    print(\"🔍 DEBUG: Summary strategy already exists - skipping update\")"
   ]
  },
  {
   "cell_type": "code",
   "execution_count": 55,
   "metadata": {},
   "outputs": [
    {
     "data": {
      "text/plain": [
       "'A memory for long-lived conversations.'"
      ]
     },
     "execution_count": 55,
     "metadata": {},
     "output_type": "execute_result"
    }
   ],
   "source": [
    "# Using direct access capability to show memory fields\n",
    "memory.description"
   ]
  },
  {
   "cell_type": "code",
   "execution_count": 56,
   "metadata": {},
   "outputs": [
    {
     "name": "stderr",
     "output_type": "stream",
     "text": [
      "🔎 Retrieving memory resource with ID: DemoLongTermMemory-uJZDq62oUz...\n",
      "  ✅ Found memory: DemoLongTermMemory-uJZDq62oUz\n"
     ]
    }
   ],
   "source": [
    "# Fetch the memory again to see the updated strategies\n",
    "get_response = manager.get_memory(memory_id=memory.id)"
   ]
  },
  {
   "cell_type": "code",
   "execution_count": 57,
   "metadata": {},
   "outputs": [
    {
     "data": {
      "text/plain": [
       "'ACTIVE'"
      ]
     },
     "execution_count": 57,
     "metadata": {},
     "output_type": "execute_result"
    }
   ],
   "source": [
    "get_response.status"
   ]
  },
  {
   "cell_type": "code",
   "execution_count": 58,
   "metadata": {},
   "outputs": [
    {
     "data": {
      "text/plain": [
       "{'strategyId': 'SummaryStrategy-JIfM66FDLY', 'name': 'SummaryStrategy', 'type': 'SUMMARIZATION', 'namespaces': ['support/user/{actorId}/{sessionId}'], 'createdAt': datetime.datetime(2025, 9, 22, 17, 5, 40, 925000, tzinfo=tzlocal()), 'updatedAt': datetime.datetime(2025, 9, 22, 17, 5, 40, 925000, tzinfo=tzlocal()), 'status': 'ACTIVE'}"
      ]
     },
     "execution_count": 58,
     "metadata": {},
     "output_type": "execute_result"
    }
   ],
   "source": [
    "strategy = manager.get_memory_strategies(memory_id=memory.id)[0]\n",
    "strategy"
   ]
  },
  {
   "cell_type": "code",
   "execution_count": 59,
   "metadata": {},
   "outputs": [
    {
     "name": "stderr",
     "output_type": "stream",
     "text": [
      "Updated memory strategies for: DemoLongTermMemory-uJZDq62oUz\n"
     ]
    },
    {
     "data": {
      "text/plain": [
       "[{'arn': 'arn:aws:bedrock-agentcore:us-east-1:328307993871:memory/DemoLongTermMemory-uJZDq62oUz', 'id': 'DemoLongTermMemory-uJZDq62oUz', 'status': 'ACTIVE', 'createdAt': datetime.datetime(2025, 9, 18, 18, 58, 36, 280000, tzinfo=tzlocal()), 'updatedAt': datetime.datetime(2025, 9, 22, 17, 5, 41, 469000, tzinfo=tzlocal()), 'memoryId': 'DemoLongTermMemory-uJZDq62oUz'},\n",
       " {'arn': 'arn:aws:bedrock-agentcore:us-east-1:328307993871:memory/GetOrCreateMemory-sYTPyVCb4Q', 'id': 'GetOrCreateMemory-sYTPyVCb4Q', 'status': 'ACTIVE', 'createdAt': datetime.datetime(2025, 9, 22, 16, 46, 24, 430000, tzinfo=tzlocal()), 'updatedAt': datetime.datetime(2025, 9, 22, 17, 1, 18, 996000, tzinfo=tzlocal()), 'memoryId': 'GetOrCreateMemory-sYTPyVCb4Q'},\n",
       " {'arn': 'arn:aws:bedrock-agentcore:us-east-1:328307993871:memory/GetOrCreateMemoryy-uIxu7R2ojl', 'id': 'GetOrCreateMemoryy-uIxu7R2ojl', 'status': 'ACTIVE', 'createdAt': datetime.datetime(2025, 9, 22, 17, 1, 58, 401000, tzinfo=tzlocal()), 'updatedAt': datetime.datetime(2025, 9, 22, 17, 4, 45, 134000, tzinfo=tzlocal()), 'memoryId': 'GetOrCreateMemoryy-uIxu7R2ojl'}]"
      ]
     },
     "execution_count": 59,
     "metadata": {},
     "output_type": "execute_result"
    }
   ],
   "source": [
    "manager.delete_strategy(memory_id=memory.id, strategy_id=strategy[\"strategyId\"])\n",
    "manager.list_memories()"
   ]
  },
  {
   "cell_type": "code",
   "execution_count": 60,
   "metadata": {},
   "outputs": [
    {
     "data": {
      "text/plain": [
       "[]"
      ]
     },
     "execution_count": 60,
     "metadata": {},
     "output_type": "execute_result"
    }
   ],
   "source": [
    "manager.get_memory_strategies(memory_id=memory.id)"
   ]
  },
  {
   "cell_type": "code",
   "execution_count": 61,
   "metadata": {},
   "outputs": [],
   "source": [
    "# try:\n",
    "#     manager.delete_memory(memory_id=memory.id)\n",
    "# except Exception as e:\n",
    "#     print(f\"🔍 DEBUG: Error deleting memory: {e}\")\n",
    "#     pass"
   ]
  },
  {
   "cell_type": "code",
   "execution_count": 62,
   "metadata": {},
   "outputs": [
    {
     "name": "stderr",
     "output_type": "stream",
     "text": [
      "🔎 Retrieving memory resource with ID: DemoLongTermMemory-uJZDq62oUz...\n",
      "  ✅ Found memory: DemoLongTermMemory-uJZDq62oUz\n"
     ]
    },
    {
     "name": "stdout",
     "output_type": "stream",
     "text": [
      "🔍 DEBUG: Memory found with status: ACTIVE\n"
     ]
    }
   ],
   "source": [
    "try:\n",
    "    memory = manager.get_memory(memory_id=memory.id)\n",
    "    print(f\"🔍 DEBUG: Memory found with status: {memory.status}\")\n",
    "except Exception as e:\n",
    "    print(f\"🔍 DEBUG: Memory deletion confirmed. Error: {e}\")"
   ]
  }
 ],
 "metadata": {
  "kernelspec": {
   "display_name": "data_science",
   "language": "python",
   "name": "python3"
  },
  "language_info": {
   "codemirror_mode": {
    "name": "ipython",
    "version": 3
   },
   "file_extension": ".py",
   "mimetype": "text/x-python",
   "name": "python",
   "nbconvert_exporter": "python",
   "pygments_lexer": "ipython3",
   "version": "3.11.9"
  }
 },
 "nbformat": 4,
 "nbformat_minor": 4
}
